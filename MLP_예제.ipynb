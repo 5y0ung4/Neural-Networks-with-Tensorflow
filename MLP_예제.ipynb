{
  "nbformat": 4,
  "nbformat_minor": 0,
  "metadata": {
    "colab": {
      "provenance": []
    },
    "kernelspec": {
      "name": "python3",
      "display_name": "Python 3"
    },
    "language_info": {
      "name": "python"
    }
  },
  "cells": [
    {
      "cell_type": "code",
      "execution_count": null,
      "metadata": {
        "colab": {
          "base_uri": "https://localhost:8080/"
        },
        "id": "Khjm_2puYVYx",
        "outputId": "271ab4cd-55bb-427d-e076-67035ce49cbb"
      },
      "outputs": [
        {
          "output_type": "stream",
          "name": "stdout",
          "text": [
            "0.5053326657968684\n"
          ]
        }
      ],
      "source": [
        "from sklearn.datasets import fetch_california_housing\n",
        "from sklearn.metrics import mean_squared_error\n",
        "from sklearn.model_selection import train_test_split\n",
        "from sklearn.neural_network import MLPRegressor\n",
        "from sklearn.pipeline import make_pipeline\n",
        "from sklearn.preprocessing import StandardScaler\n",
        "import numpy as np\n",
        "\n",
        "housing = fetch_california_housing()\n",
        "X_train_full, X_test, y_train_full, y_test = train_test_split(housing.data, housing.target, random_state=42)\n",
        "X_train, X_valid, y_train, y_valid = train_test_split(X_train_full, y_train_full, random_state=42)\n",
        "\n",
        "mlp_reg = MLPRegressor(hidden_layer_sizes=[50, 50, 50], random_state=42)\n",
        "pipeline = make_pipeline(StandardScaler(), mlp_reg)\n",
        "pipeline.fit(X_train, y_train)\n",
        "y_pred = pipeline.predict(X_valid)\n",
        "mse = mean_squared_error(y_valid, y_pred)\n",
        "rmse = np.sqrt(mse)\n",
        "print(rmse)"
      ]
    },
    {
      "cell_type": "code",
      "execution_count": null,
      "metadata": {
        "colab": {
          "base_uri": "https://localhost:8080/"
        },
        "outputId": "023ee639-13b8-45eb-f89a-a4e0b68a3ed9",
        "id": "UWKB7PNMiHRJ"
      },
      "outputs": [
        {
          "output_type": "stream",
          "name": "stdout",
          "text": [
            "0.04213919924711888\n",
            "Predicted classes: [[9.99486216e-01 4.39977920e-04 7.38055847e-05]\n",
            " [1.65061129e-04 5.79244991e-01 4.20589948e-01]\n",
            " [7.24715994e-04 9.86420740e-01 1.28545442e-02]\n",
            " [9.98724086e-01 1.26773832e-03 8.17530163e-06]\n",
            " [4.64288561e-06 7.32611434e-03 9.92669243e-01]\n",
            " [7.33009704e-07 2.30629036e-04 9.99768638e-01]\n",
            " [1.48936393e-03 9.95199184e-01 3.31145188e-03]\n",
            " [7.99608341e-07 4.31527683e-04 9.99567673e-01]\n",
            " [5.89446216e-04 9.96949151e-01 2.46140243e-03]\n",
            " [9.99216909e-01 7.78970120e-04 4.12131959e-06]\n",
            " [2.38560675e-04 2.60722776e-01 7.39038663e-01]\n",
            " [8.16849882e-05 7.75658527e-02 9.22352462e-01]\n",
            " [1.67437660e-06 1.99358816e-03 9.98004737e-01]\n",
            " [5.26838224e-04 9.72440062e-01 2.70331002e-02]\n",
            " [9.99809158e-01 1.76673519e-04 1.41688654e-05]\n",
            " [9.99185619e-01 8.06929684e-04 7.45147967e-06]\n",
            " [4.70370925e-07 3.35753626e-04 9.99663776e-01]\n",
            " [1.59634099e-03 9.98285181e-01 1.18477822e-04]\n",
            " [6.34259574e-04 9.98135036e-01 1.23070486e-03]\n",
            " [1.21496357e-02 9.86668424e-01 1.18193983e-03]\n",
            " [8.86381599e-05 9.99699537e-01 2.11824930e-04]\n",
            " [3.13211196e-03 9.92925742e-01 3.94214576e-03]\n",
            " [9.72575311e-04 9.97455223e-01 1.57220126e-03]\n",
            " [2.06886329e-05 5.82359477e-03 9.94155717e-01]\n",
            " [9.99646520e-01 3.06746445e-04 4.67332465e-05]\n",
            " [9.99509986e-01 4.77742336e-04 1.22717391e-05]\n",
            " [7.77341513e-05 1.36158936e-01 8.63763330e-01]\n",
            " [1.54355981e-03 9.92925703e-01 5.53073747e-03]]\n",
            "실제: 0, 예측: [0.999 0.    0.   ]\n",
            "실제: 1, 예측: [0.    0.579 0.421]\n",
            "실제: 1, 예측: [0.001 0.986 0.013]\n",
            "실제: 0, 예측: [0.999 0.001 0.   ]\n",
            "실제: 2, 예측: [0.    0.007 0.993]\n",
            "실제: 2, 예측: [0. 0. 1.]\n",
            "실제: 1, 예측: [0.001 0.995 0.003]\n",
            "실제: 2, 예측: [0. 0. 1.]\n",
            "실제: 1, 예측: [0.001 0.997 0.002]\n",
            "실제: 0, 예측: [0.999 0.001 0.   ]\n",
            "실제: 2, 예측: [0.    0.261 0.739]\n",
            "실제: 2, 예측: [0.    0.078 0.922]\n",
            "실제: 2, 예측: [0.    0.002 0.998]\n",
            "실제: 1, 예측: [0.001 0.972 0.027]\n",
            "실제: 0, 예측: [1. 0. 0.]\n",
            "실제: 0, 예측: [0.999 0.001 0.   ]\n",
            "실제: 2, 예측: [0. 0. 1.]\n",
            "실제: 1, 예측: [0.002 0.998 0.   ]\n",
            "실제: 1, 예측: [0.001 0.998 0.001]\n",
            "실제: 1, 예측: [0.012 0.987 0.001]\n",
            "실제: 1, 예측: [0. 1. 0.]\n",
            "실제: 1, 예측: [0.003 0.993 0.004]\n",
            "실제: 1, 예측: [0.001 0.997 0.002]\n",
            "실제: 2, 예측: [0.    0.006 0.994]\n",
            "실제: 0, 예측: [1. 0. 0.]\n",
            "실제: 0, 예측: [1. 0. 0.]\n",
            "실제: 2, 예측: [0.    0.136 0.864]\n",
            "실제: 1, 예측: [0.002 0.993 0.006]\n"
          ]
        }
      ],
      "source": [
        "from sklearn.datasets import load_iris\n",
        "from sklearn.metrics import log_loss\n",
        "from sklearn.model_selection import train_test_split\n",
        "from sklearn.neural_network import MLPClassifier\n",
        "from sklearn.pipeline import make_pipeline\n",
        "from sklearn.preprocessing import StandardScaler\n",
        "import numpy as np\n",
        "\n",
        "iris = load_iris()\n",
        "X_train_full, X_test, y_train_full, y_test = train_test_split(iris.data, iris.target, random_state=42)\n",
        "X_train, X_valid, y_train, y_valid = train_test_split(X_train_full, y_train_full, random_state=42)\n",
        "\n",
        "mlp_class = MLPClassifier(hidden_layer_sizes=[10], max_iter=500, learning_rate_init=0.01, random_state=42)\n",
        "pipeline = make_pipeline(StandardScaler(), mlp_class)\n",
        "pipeline.fit(X_train, y_train)\n",
        "y_pred = pipeline.predict_proba(X_valid)\n",
        "loss = log_loss(y_valid, y_pred)\n",
        "print(loss)\n",
        "\n",
        "y_pred_class = pipeline.predict_proba(X_valid)\n",
        "rounded_proba = np.round(y_pred_class, 3)\n",
        "print(\"Predicted classes:\", y_pred_class)\n",
        "for true, pred in zip(y_valid, rounded_proba):\n",
        "    print(f\"실제: {true}, 예측: {pred}\")"
      ]
    },
    {
      "cell_type": "code",
      "source": [
        "from sklearn.datasets import load_iris\n",
        "from sklearn.model_selection import train_test_split\n",
        "from sklearn.preprocessing import StandardScaler\n",
        "from sklearn.pipeline import make_pipeline\n",
        "from sklearn.linear_model import LogisticRegression\n",
        "iris = load_iris()\n",
        "X_train_full, X_test, y_train_full, y_test = train_test_split(iris.data, iris.target, random_state=42)\n",
        "X_train, X_valid, y_train, y_valid = train_test_split(X_train_full, y_train_full, random_state=42)\n",
        "\n",
        "log_reg = LogisticRegression(max_iter=500, random_state=42)\n",
        "pipeline = make_pipeline(StandardScaler(), log_reg)\n",
        "pipeline.fit(X_train, y_train)\n",
        "\n",
        "# 확률값 반환 (아이리스 데이터셋의 경우 ex. [0.    0.579 0.421])\n",
        "y_pred_proba = pipeline.predict_proba(X_valid)\n",
        "\n",
        "# 클래스 분류 값 반환 (아이리스 데이터셋의 경우 0, 1, 2중 하나)\n",
        "y_pred = pipeline.predict(X_valid)\n",
        "print(y_pred_proba)\n",
        "print(y_pred)"
      ],
      "metadata": {
        "colab": {
          "base_uri": "https://localhost:8080/"
        },
        "id": "_tmyEvUE93oY",
        "outputId": "e23fe43b-6f07-49be-c0c3-a14e85f3eb8e"
      },
      "execution_count": null,
      "outputs": [
        {
          "output_type": "stream",
          "name": "stdout",
          "text": [
            "[[9.77715582e-01 2.22818012e-02 2.61674328e-06]\n",
            " [1.95922457e-03 5.21756907e-01 4.76283868e-01]\n",
            " [8.82121555e-03 6.76917683e-01 3.14261102e-01]\n",
            " [9.38184775e-01 6.18100226e-02 5.20207012e-06]\n",
            " [3.93458451e-04 1.64688244e-01 8.34918297e-01]\n",
            " [6.82490101e-05 1.80247525e-02 9.81906998e-01]\n",
            " [3.66946834e-02 8.39487723e-01 1.23817594e-01]\n",
            " [3.65221600e-05 1.75015857e-02 9.82461892e-01]\n",
            " [1.32079851e-02 7.91077773e-01 1.95714242e-01]\n",
            " [9.56605739e-01 4.33918433e-02 2.41768347e-06]\n",
            " [2.64623446e-03 3.60464665e-01 6.36889100e-01]\n",
            " [1.92425882e-03 4.41085353e-01 5.56990388e-01]\n",
            " [1.67808227e-04 8.51208388e-02 9.14711353e-01]\n",
            " [5.07181077e-03 6.18844259e-01 3.76083930e-01]\n",
            " [9.82953590e-01 1.70455678e-02 8.41905205e-07]\n",
            " [9.60498762e-01 3.94988201e-02 2.41803170e-06]\n",
            " [7.90405490e-05 4.09275403e-02 9.58993419e-01]\n",
            " [6.81470477e-02 9.08669924e-01 2.31830278e-02]\n",
            " [1.78676530e-02 8.44735962e-01 1.37396385e-01]\n",
            " [1.41388534e-01 8.41260804e-01 1.73506616e-02]\n",
            " [9.58672724e-03 9.27137160e-01 6.32761128e-02]\n",
            " [5.53012112e-02 8.38788018e-01 1.05910771e-01]\n",
            " [2.41355877e-02 8.43919851e-01 1.31944561e-01]\n",
            " [3.42568279e-04 4.31719118e-02 9.56485520e-01]\n",
            " [9.78837041e-01 2.11607416e-02 2.21754869e-06]\n",
            " [9.59778278e-01 4.02185319e-02 3.19004984e-06]\n",
            " [1.36909257e-03 3.11438282e-01 6.87192625e-01]\n",
            " [3.17290523e-02 8.49660381e-01 1.18610567e-01]]\n",
            "[0 1 1 0 2 2 1 2 1 0 2 2 2 1 0 0 2 1 1 1 1 1 1 2 0 0 2 1]\n"
          ]
        }
      ]
    },
    {
      "cell_type": "code",
      "source": [
        "import sklearn\n",
        "print(sklearn.__version__)\n",
        "print(mean_squared_error)"
      ],
      "metadata": {
        "id": "Po-9b3g_arC3"
      },
      "execution_count": null,
      "outputs": []
    }
  ]
}